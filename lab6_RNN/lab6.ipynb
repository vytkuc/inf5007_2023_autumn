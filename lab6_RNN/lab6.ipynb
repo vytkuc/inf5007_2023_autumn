{
  "cells": [
    {
      "cell_type": "markdown",
      "metadata": {
        "id": "g1wa3LsJ5DAb"
      },
      "source": [
        "# INF5007 Neuroniniai tinklai\n",
        "**LAB6**"
      ]
    },
    {
      "cell_type": "markdown",
      "metadata": {
        "id": "riHojbIP5DEx"
      },
      "source": [
        "## HOMEWORK TASK\n",
        "\n",
        "Create a Recurrent Neural Network for time series prediction task from one of the following datasets:\n",
        "1. Predict the Mean monthly number of Sunspots: https://www.kaggle.com/datasets/robervalt/sunspots\n",
        "2. Number of crimes occuring each day (hour, month, week or other) prediction: https://www.kaggle.com/competitions/sf-crime/data\n",
        "3. Predict number of Airplane crashes: https://data.world/data-society/airplane-crashes\n",
        "4. Any other time series (or other type if you feel confident in RNNs) dataset\n",
        "\n",
        "Your Notebook/script must have the following parts:\n",
        "1. Data exploration (visualizing data, describing what values will be used for training, what is the target of the prediction, etc.);\n",
        "2. Data preparation (fill empty values, remove outliers, check the correlations, etc.);\n",
        "3. Split the data into train and test sets;\n",
        "4. Neural network - try at least three different structures and see which one is the best for learning;\n",
        "5. Model evaluation - at least two evaluation methods."
      ]
    },
    {
      "cell_type": "code",
      "execution_count": 1,
      "metadata": {
        "id": "4w56Megw5DFR"
      },
      "outputs": [],
      "source": [
        "import numpy as np\n",
        "import pandas as pd\n",
        "from tensorflow import keras\n",
        "import matplotlib.pyplot as plt"
      ]
    },
    {
      "cell_type": "code",
      "execution_count": 2,
      "metadata": {
        "id": "Ge-jjg-Z5DFl"
      },
      "outputs": [],
      "source": [
        "import plotly \n",
        "import plotly.express as px\n",
        "import plotly.graph_objects as go\n",
        "\n",
        "def plot_timeseries(date, temp):\n",
        "    # Plot daily median temperatures in Canberra\n",
        "    fig = go.Figure()\n",
        "    fig.add_trace(go.Scatter(x=date, \n",
        "                            y=temp,\n",
        "                            mode='lines',\n",
        "                            name='Median Temperature',\n",
        "                            opacity=0.8,\n",
        "                            line=dict(color='black', width=1)\n",
        "                            ))\n",
        "\n",
        "    # Change chart background color\n",
        "    fig.update_layout(dict(plot_bgcolor = 'white'))\n",
        "\n",
        "    # Update axes lines\n",
        "    fig.update_xaxes(showgrid=True, gridwidth=1, gridcolor='lightgrey', \n",
        "                    zeroline=True, zerolinewidth=1, zerolinecolor='lightgrey', \n",
        "                    showline=True, linewidth=1, linecolor='black',\n",
        "                    title='Date'\n",
        "                    )\n",
        "\n",
        "    fig.update_yaxes(showgrid=True, gridwidth=1, gridcolor='lightgrey', \n",
        "                    zeroline=True, zerolinewidth=1, zerolinecolor='lightgrey', \n",
        "                    showline=True, linewidth=1, linecolor='black',\n",
        "                    title='Degrees Celsius'\n",
        "                    )\n",
        "\n",
        "    # Set figure title\n",
        "    fig.update_layout(title=dict(text=\"Median Daily Temperatures in Canberra\", \n",
        "                                font=dict(color='black')))\n",
        "\n",
        "    fig.show()"
      ]
    },
    {
      "cell_type": "markdown",
      "metadata": {
        "id": "0Rk7zv-K5DFp"
      },
      "source": [
        "## Dataset exploration\n",
        "\n",
        "For our timeseries data we will be using the Rain in Australia dataset available in Kaggle: https://www.kaggle.com/datasets/jsphyg/weather-dataset-rattle-package\n",
        "\n",
        "This dataset contains about 10 years of daily weather observations from numerous Australian weather stations. We are going to predict the temperatures in the Canbarra city."
      ]
    },
    {
      "cell_type": "code",
      "execution_count": 4,
      "metadata": {
        "id": "D2g7P4UP5DFw",
        "outputId": "31f6989a-75e6-4098-85df-b367f514ba03",
        "colab": {
          "base_uri": "https://localhost:8080/",
          "height": 424
        }
      },
      "outputs": [
        {
          "output_type": "execute_result",
          "data": {
            "text/plain": [
              "            Date  MedTemp\n",
              "0     2007-11-01    16.15\n",
              "1     2007-11-02    20.45\n",
              "2     2007-11-03    18.55\n",
              "3     2007-11-04    14.40\n",
              "4     2007-11-05    11.85\n",
              "...          ...      ...\n",
              "3423  2017-06-21     6.15\n",
              "3424  2017-06-22     6.75\n",
              "3425  2017-06-23     5.20\n",
              "3426  2017-06-24     7.25\n",
              "3427  2017-06-25     5.10\n",
              "\n",
              "[3428 rows x 2 columns]"
            ],
            "text/html": [
              "\n",
              "  <div id=\"df-1ca09d2a-7e72-498a-b6e7-912c671db515\">\n",
              "    <div class=\"colab-df-container\">\n",
              "      <div>\n",
              "<style scoped>\n",
              "    .dataframe tbody tr th:only-of-type {\n",
              "        vertical-align: middle;\n",
              "    }\n",
              "\n",
              "    .dataframe tbody tr th {\n",
              "        vertical-align: top;\n",
              "    }\n",
              "\n",
              "    .dataframe thead th {\n",
              "        text-align: right;\n",
              "    }\n",
              "</style>\n",
              "<table border=\"1\" class=\"dataframe\">\n",
              "  <thead>\n",
              "    <tr style=\"text-align: right;\">\n",
              "      <th></th>\n",
              "      <th>Date</th>\n",
              "      <th>MedTemp</th>\n",
              "    </tr>\n",
              "  </thead>\n",
              "  <tbody>\n",
              "    <tr>\n",
              "      <th>0</th>\n",
              "      <td>2007-11-01</td>\n",
              "      <td>16.15</td>\n",
              "    </tr>\n",
              "    <tr>\n",
              "      <th>1</th>\n",
              "      <td>2007-11-02</td>\n",
              "      <td>20.45</td>\n",
              "    </tr>\n",
              "    <tr>\n",
              "      <th>2</th>\n",
              "      <td>2007-11-03</td>\n",
              "      <td>18.55</td>\n",
              "    </tr>\n",
              "    <tr>\n",
              "      <th>3</th>\n",
              "      <td>2007-11-04</td>\n",
              "      <td>14.40</td>\n",
              "    </tr>\n",
              "    <tr>\n",
              "      <th>4</th>\n",
              "      <td>2007-11-05</td>\n",
              "      <td>11.85</td>\n",
              "    </tr>\n",
              "    <tr>\n",
              "      <th>...</th>\n",
              "      <td>...</td>\n",
              "      <td>...</td>\n",
              "    </tr>\n",
              "    <tr>\n",
              "      <th>3423</th>\n",
              "      <td>2017-06-21</td>\n",
              "      <td>6.15</td>\n",
              "    </tr>\n",
              "    <tr>\n",
              "      <th>3424</th>\n",
              "      <td>2017-06-22</td>\n",
              "      <td>6.75</td>\n",
              "    </tr>\n",
              "    <tr>\n",
              "      <th>3425</th>\n",
              "      <td>2017-06-23</td>\n",
              "      <td>5.20</td>\n",
              "    </tr>\n",
              "    <tr>\n",
              "      <th>3426</th>\n",
              "      <td>2017-06-24</td>\n",
              "      <td>7.25</td>\n",
              "    </tr>\n",
              "    <tr>\n",
              "      <th>3427</th>\n",
              "      <td>2017-06-25</td>\n",
              "      <td>5.10</td>\n",
              "    </tr>\n",
              "  </tbody>\n",
              "</table>\n",
              "<p>3428 rows × 2 columns</p>\n",
              "</div>\n",
              "      <button class=\"colab-df-convert\" onclick=\"convertToInteractive('df-1ca09d2a-7e72-498a-b6e7-912c671db515')\"\n",
              "              title=\"Convert this dataframe to an interactive table.\"\n",
              "              style=\"display:none;\">\n",
              "        \n",
              "  <svg xmlns=\"http://www.w3.org/2000/svg\" height=\"24px\"viewBox=\"0 0 24 24\"\n",
              "       width=\"24px\">\n",
              "    <path d=\"M0 0h24v24H0V0z\" fill=\"none\"/>\n",
              "    <path d=\"M18.56 5.44l.94 2.06.94-2.06 2.06-.94-2.06-.94-.94-2.06-.94 2.06-2.06.94zm-11 1L8.5 8.5l.94-2.06 2.06-.94-2.06-.94L8.5 2.5l-.94 2.06-2.06.94zm10 10l.94 2.06.94-2.06 2.06-.94-2.06-.94-.94-2.06-.94 2.06-2.06.94z\"/><path d=\"M17.41 7.96l-1.37-1.37c-.4-.4-.92-.59-1.43-.59-.52 0-1.04.2-1.43.59L10.3 9.45l-7.72 7.72c-.78.78-.78 2.05 0 2.83L4 21.41c.39.39.9.59 1.41.59.51 0 1.02-.2 1.41-.59l7.78-7.78 2.81-2.81c.8-.78.8-2.07 0-2.86zM5.41 20L4 18.59l7.72-7.72 1.47 1.35L5.41 20z\"/>\n",
              "  </svg>\n",
              "      </button>\n",
              "      \n",
              "  <style>\n",
              "    .colab-df-container {\n",
              "      display:flex;\n",
              "      flex-wrap:wrap;\n",
              "      gap: 12px;\n",
              "    }\n",
              "\n",
              "    .colab-df-convert {\n",
              "      background-color: #E8F0FE;\n",
              "      border: none;\n",
              "      border-radius: 50%;\n",
              "      cursor: pointer;\n",
              "      display: none;\n",
              "      fill: #1967D2;\n",
              "      height: 32px;\n",
              "      padding: 0 0 0 0;\n",
              "      width: 32px;\n",
              "    }\n",
              "\n",
              "    .colab-df-convert:hover {\n",
              "      background-color: #E2EBFA;\n",
              "      box-shadow: 0px 1px 2px rgba(60, 64, 67, 0.3), 0px 1px 3px 1px rgba(60, 64, 67, 0.15);\n",
              "      fill: #174EA6;\n",
              "    }\n",
              "\n",
              "    [theme=dark] .colab-df-convert {\n",
              "      background-color: #3B4455;\n",
              "      fill: #D2E3FC;\n",
              "    }\n",
              "\n",
              "    [theme=dark] .colab-df-convert:hover {\n",
              "      background-color: #434B5C;\n",
              "      box-shadow: 0px 1px 3px 1px rgba(0, 0, 0, 0.15);\n",
              "      filter: drop-shadow(0px 1px 2px rgba(0, 0, 0, 0.3));\n",
              "      fill: #FFFFFF;\n",
              "    }\n",
              "  </style>\n",
              "\n",
              "      <script>\n",
              "        const buttonEl =\n",
              "          document.querySelector('#df-1ca09d2a-7e72-498a-b6e7-912c671db515 button.colab-df-convert');\n",
              "        buttonEl.style.display =\n",
              "          google.colab.kernel.accessAllowed ? 'block' : 'none';\n",
              "\n",
              "        async function convertToInteractive(key) {\n",
              "          const element = document.querySelector('#df-1ca09d2a-7e72-498a-b6e7-912c671db515');\n",
              "          const dataTable =\n",
              "            await google.colab.kernel.invokeFunction('convertToInteractive',\n",
              "                                                     [key], {});\n",
              "          if (!dataTable) return;\n",
              "\n",
              "          const docLinkHtml = 'Like what you see? Visit the ' +\n",
              "            '<a target=\"_blank\" href=https://colab.research.google.com/notebooks/data_table.ipynb>data table notebook</a>'\n",
              "            + ' to learn more about interactive tables.';\n",
              "          element.innerHTML = '';\n",
              "          dataTable['output_type'] = 'display_data';\n",
              "          await google.colab.output.renderOutput(dataTable, element);\n",
              "          const docLink = document.createElement('div');\n",
              "          docLink.innerHTML = docLinkHtml;\n",
              "          element.appendChild(docLink);\n",
              "        }\n",
              "      </script>\n",
              "    </div>\n",
              "  </div>\n",
              "  "
            ]
          },
          "metadata": {},
          "execution_count": 4
        }
      ],
      "source": [
        "url = \"https://raw.githubusercontent.com/vytkuc/inf5007/main/lab6_RNN/lab_data.csv\"\n",
        "df = pd.read_csv(url)\n",
        "df"
      ]
    },
    {
      "cell_type": "code",
      "execution_count": null,
      "metadata": {
        "id": "ZJzvoP915DG1"
      },
      "outputs": [],
      "source": [
        "plot_timeseries(df.Date, df.MedTemp)"
      ]
    },
    {
      "cell_type": "markdown",
      "metadata": {
        "id": "cHhMy8YK5DG3"
      },
      "source": [
        "## Data preparation"
      ]
    },
    {
      "cell_type": "code",
      "execution_count": null,
      "metadata": {
        "id": "sW_DMVPg5DG4"
      },
      "outputs": [],
      "source": [
        "# Normalization\n",
        "from sklearn.preprocessing import MinMaxScaler\n",
        "\n",
        "#data_array = np.array(df.MedTemp.astype('float32'))\n",
        "X = np.array(df.MedTemp).reshape(-1, 1)\n",
        "scaler = MinMaxScaler()\n",
        "X_scaled = scaler.fit_transform(X)\n",
        "X_scaled"
      ]
    },
    {
      "cell_type": "code",
      "execution_count": null,
      "metadata": {
        "id": "hnHf8IB45DG5"
      },
      "outputs": [],
      "source": [
        "plot_timeseries(df.Date, X_scaled.reshape(-1))"
      ]
    },
    {
      "cell_type": "markdown",
      "metadata": {
        "id": "S0SagRiI5DG7"
      },
      "source": [
        "**DO NOT SHUFFLE IN TIME SERIES!!!**"
      ]
    },
    {
      "cell_type": "code",
      "execution_count": null,
      "metadata": {
        "id": "08JWEfF05DG7"
      },
      "outputs": [],
      "source": [
        "# Train / Test split (initial only)\n",
        "from sklearn.model_selection import train_test_split\n",
        "\n",
        "train_data, test_data = train_test_split(X_scaled, test_size=0.2, shuffle=False)\n",
        "print(train_data.shape, test_data.shape)"
      ]
    },
    {
      "cell_type": "markdown",
      "metadata": {
        "id": "nd2ErtAX5DG8"
      },
      "source": [
        "### Reshaping the data\n",
        "Since we have an array of numbers (a time series object), we need to reshape this array in such a way that we could extract training and testing information.\n",
        "\n",
        "Hence, we are reshaping the input array so that it would be shaped as: `total_samples x time_steps x features`.\n",
        "\n",
        "<img src=\"https://github.com/vytkuc/inf5007/blob/main/lab6_RNN/img/rnnData.png?raw=1\" \n",
        "     width=750 height=400 \n",
        "     style=\"display: block; margin: 0 auto\"/>"
      ]
    },
    {
      "cell_type": "code",
      "execution_count": null,
      "metadata": {
        "id": "QHkigRqd5DHL"
      },
      "outputs": [],
      "source": [
        "def get_XY(dat, time_steps):\n",
        "    # Prepare Y\n",
        "    Y_ind = np.arange(time_steps, len(dat), time_steps)\n",
        "    Y = dat[Y_ind]\n",
        "\n",
        "    # Prepare X\n",
        "    rows_x = len(Y)\n",
        "    X = dat[range(time_steps*rows_x)]\n",
        "    X = np.reshape(X, (rows_x, time_steps, 1))    \n",
        "    \n",
        "    return X, Y\n",
        " \n",
        "time_steps = 7\n",
        "trainX, trainY = get_XY(train_data, time_steps)\n",
        "testX, testY = get_XY(test_data, time_steps)"
      ]
    },
    {
      "cell_type": "code",
      "execution_count": null,
      "metadata": {
        "id": "xLEg0L7q5DHM"
      },
      "outputs": [],
      "source": [
        "print(trainX.shape)\n",
        "print(trainY.shape)\n",
        "\n",
        "print(testX.shape)\n",
        "print(testY.shape)"
      ]
    },
    {
      "cell_type": "markdown",
      "metadata": {
        "id": "scbotPA85DHN"
      },
      "source": [
        "## Model definition\n",
        "\n",
        "<img src=\"https://github.com/vytkuc/inf5007/blob/main/lab6_RNN/img/rnnModel.png?raw=1\" \n",
        "     width=1000 height=350 \n",
        "     style=\"display: block; margin: 0 auto\"/>"
      ]
    },
    {
      "cell_type": "code",
      "execution_count": null,
      "metadata": {
        "id": "_NZbUL695DHR"
      },
      "outputs": [],
      "source": [
        "from keras.models import Sequential\n",
        "from keras import layers\n",
        "\n",
        "np.random.seed(1330)\n",
        "\n",
        "def create_model():\n",
        "    model = keras.Sequential( \n",
        "        [\n",
        "            layers.InputLayer(input_shape=(time_steps, 1)),\n",
        "            layers.SimpleRNN(units = 3, activation = \"tanh\"),\n",
        "            layers.Dense(units = 1, activation = \"tanh\"),\n",
        "            layers.Dense(units = 1, activation = \"linear\"),\n",
        "        ]\n",
        "    )\n",
        "    return model\n",
        "\n",
        "model = create_model()\n",
        "model.summary()"
      ]
    },
    {
      "cell_type": "code",
      "execution_count": null,
      "metadata": {
        "id": "gbPzUBT85DHS"
      },
      "outputs": [],
      "source": [
        "model.compile(loss='mean_squared_error', \n",
        "              metrics=['MeanSquaredError', 'MeanAbsoluteError'], \n",
        "              optimizer='adam')\n",
        "\n",
        "model.fit(trainX,\n",
        "          trainY,\n",
        "          batch_size=1,\n",
        "          epochs=20,\n",
        "          verbose=0,\n",
        "          shuffle=True,\n",
        "         )"
      ]
    },
    {
      "cell_type": "code",
      "execution_count": null,
      "metadata": {
        "id": "vOOL4fHj5DHU"
      },
      "outputs": [],
      "source": [
        "from sklearn.metrics import mean_squared_error \n",
        "\n",
        "pred_train = model.predict(trainX)\n",
        "pred_test = model.predict(testX)\n",
        "\n",
        "print('---------- Evaluation on Training Data ----------')\n",
        "print(\"MSE =\", mean_squared_error(trainY, pred_train))\n",
        "print(\"\")\n",
        "\n",
        "print('---------- Evaluation on Test Data ----------')\n",
        "print(\"MSE =\", mean_squared_error(testY, pred_test))\n",
        "print(\"\")"
      ]
    },
    {
      "cell_type": "markdown",
      "metadata": {
        "id": "W8De5Oj25DHV"
      },
      "source": [
        "## Plot the predicted results"
      ]
    },
    {
      "cell_type": "code",
      "execution_count": null,
      "metadata": {
        "id": "EcOpD-y_5DHW"
      },
      "outputs": [],
      "source": [
        "def plot_predicted(true_data, pred_data):\n",
        "    fig = go.Figure()\n",
        "    fig.add_trace(go.Scatter(x=np.array(range(0,len(true_data))),\n",
        "                            y=scaler.inverse_transform(true_data).flatten(),\n",
        "                            mode='lines',\n",
        "                            name='Median Temperature - Actual (Test)',\n",
        "                            opacity=0.8,\n",
        "                            line=dict(color='black', width=1)\n",
        "                            ))\n",
        "    fig.add_trace(go.Scatter(x=np.array(range(0,len(pred_data))),\n",
        "                            y=scaler.inverse_transform(pred_data).flatten(),\n",
        "                            mode='lines',\n",
        "                            name='Median Temperature - Predicted (Test)',\n",
        "                            opacity=0.8,\n",
        "                            line=dict(color='red', width=1)\n",
        "                            ))\n",
        "\n",
        "    # Change chart background color\n",
        "    fig.update_layout(dict(plot_bgcolor = 'white'))\n",
        "\n",
        "    # Update axes lines\n",
        "    fig.update_xaxes(showgrid=True, gridwidth=1, gridcolor='lightgrey', \n",
        "                    zeroline=True, zerolinewidth=1, zerolinecolor='lightgrey', \n",
        "                    showline=True, linewidth=1, linecolor='black',\n",
        "                    title='Observation'\n",
        "                    )\n",
        "\n",
        "    fig.update_yaxes(showgrid=True, gridwidth=1, gridcolor='lightgrey', \n",
        "                    zeroline=True, zerolinewidth=1, zerolinecolor='lightgrey', \n",
        "                    showline=True, linewidth=1, linecolor='black',\n",
        "                    title='Degrees Celsius'\n",
        "                    )\n",
        "\n",
        "    # Set figure title\n",
        "    fig.update_layout(title=dict(text=\"Median Daily Temperatures in Canberra\", \n",
        "                                font=dict(color='black')),\n",
        "                    legend=dict(orientation=\"h\", yanchor=\"bottom\", y=1.02, xanchor=\"right\", x=1)\n",
        "                    )\n",
        "\n",
        "    fig.show()"
      ]
    },
    {
      "cell_type": "code",
      "execution_count": null,
      "metadata": {
        "id": "eDpaiMW85DHX"
      },
      "outputs": [],
      "source": [
        "plot_predicted(testY, pred_test)"
      ]
    },
    {
      "cell_type": "code",
      "execution_count": null,
      "metadata": {
        "id": "13ce-7ty5DHY"
      },
      "outputs": [],
      "source": []
    }
  ],
  "metadata": {
    "kernelspec": {
      "display_name": "Python 3.10.6 ('.venv': venv)",
      "language": "python",
      "name": "python3"
    },
    "language_info": {
      "codemirror_mode": {
        "name": "ipython",
        "version": 3
      },
      "file_extension": ".py",
      "mimetype": "text/x-python",
      "name": "python",
      "nbconvert_exporter": "python",
      "pygments_lexer": "ipython3",
      "version": "3.10.6"
    },
    "orig_nbformat": 4,
    "vscode": {
      "interpreter": {
        "hash": "f32e9e4625cf49280caf02d5f3b5653a557dbf50957a0aa645284dfb322991f3"
      }
    },
    "colab": {
      "provenance": []
    }
  },
  "nbformat": 4,
  "nbformat_minor": 0
}