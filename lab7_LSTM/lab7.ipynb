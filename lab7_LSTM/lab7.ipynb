{
  "cells": [
    {
      "cell_type": "markdown",
      "metadata": {
        "id": "XY79grTvjuzR"
      },
      "source": [
        "# INF5007 Neuroniniai tinklai\n",
        "**LAB7**"
      ]
    },
    {
      "cell_type": "markdown",
      "metadata": {
        "id": "_nRWgUqNjuzT"
      },
      "source": [
        "## HOMEWORK TASK\n",
        "\n",
        "You can use LSTM networks in your individual work."
      ]
    },
    {
      "cell_type": "code",
      "execution_count": 1,
      "metadata": {
        "id": "5wFV5OBMjuzU"
      },
      "outputs": [],
      "source": [
        "import numpy as np\n",
        "import pandas as pd\n",
        "from tensorflow import keras\n",
        "import matplotlib.pyplot as plt"
      ]
    },
    {
      "cell_type": "markdown",
      "metadata": {
        "id": "gIDEsCHnjuzV"
      },
      "source": [
        "## LSTM network on same data used for RNN"
      ]
    },
    {
      "cell_type": "code",
      "execution_count": 2,
      "metadata": {
        "id": "h7UMcdU-juzV"
      },
      "outputs": [],
      "source": [
        "import plotly \n",
        "import plotly.express as px\n",
        "import plotly.graph_objects as go\n",
        "\n",
        "def plot_timeseries(date, temp):\n",
        "    # Plot daily median temperatures in Canberra\n",
        "    fig = go.Figure()\n",
        "    fig.add_trace(go.Scatter(x=date, \n",
        "                            y=temp,\n",
        "                            mode='lines',\n",
        "                            name='Median Temperature',\n",
        "                            opacity=0.8,\n",
        "                            line=dict(color='black', width=1)\n",
        "                            ))\n",
        "\n",
        "    # Change chart background color\n",
        "    fig.update_layout(dict(plot_bgcolor = 'white'))\n",
        "\n",
        "    # Update axes lines\n",
        "    fig.update_xaxes(showgrid=True, gridwidth=1, gridcolor='lightgrey', \n",
        "                    zeroline=True, zerolinewidth=1, zerolinecolor='lightgrey', \n",
        "                    showline=True, linewidth=1, linecolor='black',\n",
        "                    title='Date'\n",
        "                    )\n",
        "\n",
        "    fig.update_yaxes(showgrid=True, gridwidth=1, gridcolor='lightgrey', \n",
        "                    zeroline=True, zerolinewidth=1, zerolinecolor='lightgrey', \n",
        "                    showline=True, linewidth=1, linecolor='black',\n",
        "                    title='Degrees Celsius'\n",
        "                    )\n",
        "\n",
        "    # Set figure title\n",
        "    fig.update_layout(title=dict(text=\"Median Daily Temperatures in Canberra\", \n",
        "                                font=dict(color='black')))\n",
        "\n",
        "    fig.show()"
      ]
    },
    {
      "cell_type": "code",
      "execution_count": 4,
      "metadata": {
        "id": "oo8ceYrvjuzW",
        "outputId": "dcbbe20e-f8b1-4b5e-d823-04ffc1b030fb",
        "colab": {
          "base_uri": "https://localhost:8080/",
          "height": 423
        }
      },
      "outputs": [
        {
          "output_type": "execute_result",
          "data": {
            "text/plain": [
              "            Date  MedTemp\n",
              "0     2007-11-01    16.15\n",
              "1     2007-11-02    20.45\n",
              "2     2007-11-03    18.55\n",
              "3     2007-11-04    14.40\n",
              "4     2007-11-05    11.85\n",
              "...          ...      ...\n",
              "3423  2017-06-21     6.15\n",
              "3424  2017-06-22     6.75\n",
              "3425  2017-06-23     5.20\n",
              "3426  2017-06-24     7.25\n",
              "3427  2017-06-25     5.10\n",
              "\n",
              "[3428 rows x 2 columns]"
            ],
            "text/html": [
              "\n",
              "  <div id=\"df-b144d445-cf81-453d-9bff-a7baf724e3af\">\n",
              "    <div class=\"colab-df-container\">\n",
              "      <div>\n",
              "<style scoped>\n",
              "    .dataframe tbody tr th:only-of-type {\n",
              "        vertical-align: middle;\n",
              "    }\n",
              "\n",
              "    .dataframe tbody tr th {\n",
              "        vertical-align: top;\n",
              "    }\n",
              "\n",
              "    .dataframe thead th {\n",
              "        text-align: right;\n",
              "    }\n",
              "</style>\n",
              "<table border=\"1\" class=\"dataframe\">\n",
              "  <thead>\n",
              "    <tr style=\"text-align: right;\">\n",
              "      <th></th>\n",
              "      <th>Date</th>\n",
              "      <th>MedTemp</th>\n",
              "    </tr>\n",
              "  </thead>\n",
              "  <tbody>\n",
              "    <tr>\n",
              "      <th>0</th>\n",
              "      <td>2007-11-01</td>\n",
              "      <td>16.15</td>\n",
              "    </tr>\n",
              "    <tr>\n",
              "      <th>1</th>\n",
              "      <td>2007-11-02</td>\n",
              "      <td>20.45</td>\n",
              "    </tr>\n",
              "    <tr>\n",
              "      <th>2</th>\n",
              "      <td>2007-11-03</td>\n",
              "      <td>18.55</td>\n",
              "    </tr>\n",
              "    <tr>\n",
              "      <th>3</th>\n",
              "      <td>2007-11-04</td>\n",
              "      <td>14.40</td>\n",
              "    </tr>\n",
              "    <tr>\n",
              "      <th>4</th>\n",
              "      <td>2007-11-05</td>\n",
              "      <td>11.85</td>\n",
              "    </tr>\n",
              "    <tr>\n",
              "      <th>...</th>\n",
              "      <td>...</td>\n",
              "      <td>...</td>\n",
              "    </tr>\n",
              "    <tr>\n",
              "      <th>3423</th>\n",
              "      <td>2017-06-21</td>\n",
              "      <td>6.15</td>\n",
              "    </tr>\n",
              "    <tr>\n",
              "      <th>3424</th>\n",
              "      <td>2017-06-22</td>\n",
              "      <td>6.75</td>\n",
              "    </tr>\n",
              "    <tr>\n",
              "      <th>3425</th>\n",
              "      <td>2017-06-23</td>\n",
              "      <td>5.20</td>\n",
              "    </tr>\n",
              "    <tr>\n",
              "      <th>3426</th>\n",
              "      <td>2017-06-24</td>\n",
              "      <td>7.25</td>\n",
              "    </tr>\n",
              "    <tr>\n",
              "      <th>3427</th>\n",
              "      <td>2017-06-25</td>\n",
              "      <td>5.10</td>\n",
              "    </tr>\n",
              "  </tbody>\n",
              "</table>\n",
              "<p>3428 rows × 2 columns</p>\n",
              "</div>\n",
              "      <button class=\"colab-df-convert\" onclick=\"convertToInteractive('df-b144d445-cf81-453d-9bff-a7baf724e3af')\"\n",
              "              title=\"Convert this dataframe to an interactive table.\"\n",
              "              style=\"display:none;\">\n",
              "        \n",
              "  <svg xmlns=\"http://www.w3.org/2000/svg\" height=\"24px\"viewBox=\"0 0 24 24\"\n",
              "       width=\"24px\">\n",
              "    <path d=\"M0 0h24v24H0V0z\" fill=\"none\"/>\n",
              "    <path d=\"M18.56 5.44l.94 2.06.94-2.06 2.06-.94-2.06-.94-.94-2.06-.94 2.06-2.06.94zm-11 1L8.5 8.5l.94-2.06 2.06-.94-2.06-.94L8.5 2.5l-.94 2.06-2.06.94zm10 10l.94 2.06.94-2.06 2.06-.94-2.06-.94-.94-2.06-.94 2.06-2.06.94z\"/><path d=\"M17.41 7.96l-1.37-1.37c-.4-.4-.92-.59-1.43-.59-.52 0-1.04.2-1.43.59L10.3 9.45l-7.72 7.72c-.78.78-.78 2.05 0 2.83L4 21.41c.39.39.9.59 1.41.59.51 0 1.02-.2 1.41-.59l7.78-7.78 2.81-2.81c.8-.78.8-2.07 0-2.86zM5.41 20L4 18.59l7.72-7.72 1.47 1.35L5.41 20z\"/>\n",
              "  </svg>\n",
              "      </button>\n",
              "      \n",
              "  <style>\n",
              "    .colab-df-container {\n",
              "      display:flex;\n",
              "      flex-wrap:wrap;\n",
              "      gap: 12px;\n",
              "    }\n",
              "\n",
              "    .colab-df-convert {\n",
              "      background-color: #E8F0FE;\n",
              "      border: none;\n",
              "      border-radius: 50%;\n",
              "      cursor: pointer;\n",
              "      display: none;\n",
              "      fill: #1967D2;\n",
              "      height: 32px;\n",
              "      padding: 0 0 0 0;\n",
              "      width: 32px;\n",
              "    }\n",
              "\n",
              "    .colab-df-convert:hover {\n",
              "      background-color: #E2EBFA;\n",
              "      box-shadow: 0px 1px 2px rgba(60, 64, 67, 0.3), 0px 1px 3px 1px rgba(60, 64, 67, 0.15);\n",
              "      fill: #174EA6;\n",
              "    }\n",
              "\n",
              "    [theme=dark] .colab-df-convert {\n",
              "      background-color: #3B4455;\n",
              "      fill: #D2E3FC;\n",
              "    }\n",
              "\n",
              "    [theme=dark] .colab-df-convert:hover {\n",
              "      background-color: #434B5C;\n",
              "      box-shadow: 0px 1px 3px 1px rgba(0, 0, 0, 0.15);\n",
              "      filter: drop-shadow(0px 1px 2px rgba(0, 0, 0, 0.3));\n",
              "      fill: #FFFFFF;\n",
              "    }\n",
              "  </style>\n",
              "\n",
              "      <script>\n",
              "        const buttonEl =\n",
              "          document.querySelector('#df-b144d445-cf81-453d-9bff-a7baf724e3af button.colab-df-convert');\n",
              "        buttonEl.style.display =\n",
              "          google.colab.kernel.accessAllowed ? 'block' : 'none';\n",
              "\n",
              "        async function convertToInteractive(key) {\n",
              "          const element = document.querySelector('#df-b144d445-cf81-453d-9bff-a7baf724e3af');\n",
              "          const dataTable =\n",
              "            await google.colab.kernel.invokeFunction('convertToInteractive',\n",
              "                                                     [key], {});\n",
              "          if (!dataTable) return;\n",
              "\n",
              "          const docLinkHtml = 'Like what you see? Visit the ' +\n",
              "            '<a target=\"_blank\" href=https://colab.research.google.com/notebooks/data_table.ipynb>data table notebook</a>'\n",
              "            + ' to learn more about interactive tables.';\n",
              "          element.innerHTML = '';\n",
              "          dataTable['output_type'] = 'display_data';\n",
              "          await google.colab.output.renderOutput(dataTable, element);\n",
              "          const docLink = document.createElement('div');\n",
              "          docLink.innerHTML = docLinkHtml;\n",
              "          element.appendChild(docLink);\n",
              "        }\n",
              "      </script>\n",
              "    </div>\n",
              "  </div>\n",
              "  "
            ]
          },
          "metadata": {},
          "execution_count": 4
        }
      ],
      "source": [
        "df = pd.read_csv('https://raw.githubusercontent.com/vytkuc/inf5007/main/lab6_RNN/lab_data.csv')\n",
        "df"
      ]
    },
    {
      "cell_type": "code",
      "execution_count": null,
      "metadata": {
        "id": "aqAuhJl-juzX"
      },
      "outputs": [],
      "source": [
        "plot_timeseries(df.Date, df.MedTemp)"
      ]
    },
    {
      "cell_type": "markdown",
      "metadata": {
        "id": "CjTir7SWjuzX"
      },
      "source": [
        "### Data preparation"
      ]
    },
    {
      "cell_type": "code",
      "execution_count": null,
      "metadata": {
        "id": "zXf7c_LBjuzX"
      },
      "outputs": [],
      "source": [
        "# Normalization\n",
        "from sklearn.preprocessing import MinMaxScaler\n",
        "\n",
        "#data_array = np.array(df.MedTemp.astype('float32'))\n",
        "X = np.array(df.MedTemp).reshape(-1, 1)\n",
        "scaler = MinMaxScaler()\n",
        "X_scaled = scaler.fit_transform(X)\n",
        "\n",
        "# Train / Test split (initial only)\n",
        "from sklearn.model_selection import train_test_split\n",
        "\n",
        "train_data, test_data = train_test_split(X_scaled, test_size=0.2, shuffle=False)\n",
        "print(train_data.shape, test_data.shape)\n",
        "\n",
        "def get_XY(dat, time_steps):\n",
        "    # Prepare Y\n",
        "    Y_ind = np.arange(time_steps, len(dat), time_steps)\n",
        "    Y = dat[Y_ind]\n",
        "\n",
        "    # Prepare X\n",
        "    rows_x = len(Y)\n",
        "    X = dat[range(time_steps*rows_x)]\n",
        "    X = np.reshape(X, (rows_x, time_steps, 1))    \n",
        "    \n",
        "    return X, Y\n",
        " \n",
        "time_steps = 7\n",
        "trainX, trainY = get_XY(train_data, time_steps)\n",
        "testX, testY = get_XY(test_data, time_steps)"
      ]
    },
    {
      "cell_type": "markdown",
      "metadata": {
        "id": "IbmIZ3MUjuzY"
      },
      "source": [
        "### Model definition"
      ]
    },
    {
      "cell_type": "code",
      "execution_count": null,
      "metadata": {
        "id": "tFvgPvDDjuzY"
      },
      "outputs": [],
      "source": [
        "from keras.models import Sequential\n",
        "from keras import layers\n",
        "\n",
        "np.random.seed(1330)\n",
        "\n",
        "def create_model():\n",
        "    model = keras.Sequential( \n",
        "        [\n",
        "            layers.LSTM(50, activation='relu', input_shape=(time_steps, 1)),\n",
        "            layers.Dense(units = 1, activation = \"linear\"),\n",
        "        ]\n",
        "    )\n",
        "    return model\n",
        "\n",
        "\n",
        "model = create_model()\n",
        "model.summary()"
      ]
    },
    {
      "cell_type": "code",
      "execution_count": null,
      "metadata": {
        "id": "HWG9OeADjuzY"
      },
      "outputs": [],
      "source": [
        "model.compile(loss='mean_squared_error', \n",
        "              metrics=['MeanSquaredError', 'MeanAbsoluteError'], \n",
        "              optimizer='adam')\n",
        "\n",
        "model.fit(trainX,\n",
        "          trainY,\n",
        "          batch_size=1,\n",
        "          epochs=20,\n",
        "          verbose=0,\n",
        "          shuffle=True,\n",
        "         )"
      ]
    },
    {
      "cell_type": "code",
      "execution_count": null,
      "metadata": {
        "id": "0FtUJHx7juzZ"
      },
      "outputs": [],
      "source": [
        "from sklearn.metrics import mean_squared_error \n",
        "\n",
        "pred_train = model.predict(trainX)\n",
        "pred_test = model.predict(testX)\n",
        "\n",
        "print('---------- Evaluation on Training Data ----------')\n",
        "print(\"MSE =\", mean_squared_error(trainY, pred_train))\n",
        "print(\"\")\n",
        "\n",
        "print('---------- Evaluation on Test Data ----------')\n",
        "print(\"MSE =\", mean_squared_error(testY, pred_test))\n",
        "print(\"\")"
      ]
    },
    {
      "cell_type": "code",
      "execution_count": null,
      "metadata": {
        "id": "ufyWrnxxjuzZ"
      },
      "outputs": [],
      "source": [
        "def plot_predicted(true_data, pred_data):\n",
        "    fig = go.Figure()\n",
        "    fig.add_trace(go.Scatter(x=np.array(range(0,len(true_data))),\n",
        "                            y=scaler.inverse_transform(true_data).flatten(),\n",
        "                            mode='lines',\n",
        "                            name='Median Temperature - Actual (Test)',\n",
        "                            opacity=0.8,\n",
        "                            line=dict(color='black', width=1)\n",
        "                            ))\n",
        "    fig.add_trace(go.Scatter(x=np.array(range(0,len(pred_data))),\n",
        "                            y=scaler.inverse_transform(pred_data).flatten(),\n",
        "                            mode='lines',\n",
        "                            name='Median Temperature - Predicted (Test)',\n",
        "                            opacity=0.8,\n",
        "                            line=dict(color='red', width=1)\n",
        "                            ))\n",
        "\n",
        "    # Change chart background color\n",
        "    fig.update_layout(dict(plot_bgcolor = 'white'))\n",
        "\n",
        "    # Update axes lines\n",
        "    fig.update_xaxes(showgrid=True, gridwidth=1, gridcolor='lightgrey', \n",
        "                    zeroline=True, zerolinewidth=1, zerolinecolor='lightgrey', \n",
        "                    showline=True, linewidth=1, linecolor='black',\n",
        "                    title='Observation'\n",
        "                    )\n",
        "\n",
        "    fig.update_yaxes(showgrid=True, gridwidth=1, gridcolor='lightgrey', \n",
        "                    zeroline=True, zerolinewidth=1, zerolinecolor='lightgrey', \n",
        "                    showline=True, linewidth=1, linecolor='black',\n",
        "                    title='Degrees Celsius'\n",
        "                    )\n",
        "\n",
        "    # Set figure title\n",
        "    fig.update_layout(title=dict(text=\"Median Daily Temperatures in Canberra\", \n",
        "                                font=dict(color='black')),\n",
        "                    legend=dict(orientation=\"h\", yanchor=\"bottom\", y=1.02, xanchor=\"right\", x=1)\n",
        "                    )\n",
        "\n",
        "    fig.show()"
      ]
    },
    {
      "cell_type": "code",
      "execution_count": null,
      "metadata": {
        "id": "1heL5QGvjuzZ"
      },
      "outputs": [],
      "source": [
        "plot_predicted(testY, pred_test)"
      ]
    },
    {
      "cell_type": "markdown",
      "metadata": {
        "id": "ITxy-zBJjuzZ"
      },
      "source": [
        "## LSTM for character-level text generation"
      ]
    },
    {
      "cell_type": "code",
      "execution_count": null,
      "metadata": {
        "id": "AUVfIOCkjuza"
      },
      "outputs": [],
      "source": [
        "from tensorflow import keras\n",
        "from tensorflow.keras import layers\n",
        "\n",
        "import numpy as np\n",
        "import random\n",
        "import io\n"
      ]
    },
    {
      "cell_type": "markdown",
      "metadata": {
        "id": "Oj1YcRK_juza"
      },
      "source": [
        "#### Download the data"
      ]
    },
    {
      "cell_type": "code",
      "execution_count": null,
      "metadata": {
        "id": "Ox8TEEFOjuza"
      },
      "outputs": [],
      "source": [
        "path = keras.utils.get_file(\n",
        "    \"nietzsche.txt\", origin=\"https://s3.amazonaws.com/text-datasets/nietzsche.txt\"\n",
        ")\n",
        "\n",
        "with io.open(path, encoding=\"utf-8\") as f:\n",
        "    text = f.read().lower()\n",
        "text = text.replace(\"\\n\", \" \")  \n",
        "print(\"Corpus length:\", len(text))\n",
        "text[:1000]"
      ]
    },
    {
      "cell_type": "markdown",
      "metadata": {
        "id": "Es5FZ7u4juza"
      },
      "source": [
        "#### Text data preparation"
      ]
    },
    {
      "cell_type": "code",
      "execution_count": null,
      "metadata": {
        "id": "WO5SF_Dejuza"
      },
      "outputs": [],
      "source": [
        "chars = sorted(list(set(text)))\n",
        "print(\"Total chars:\", len(chars))\n",
        "char_indices = dict((c, i) for i, c in enumerate(chars))\n",
        "indices_char = dict((i, c) for i, c in enumerate(chars))\n",
        "\n",
        "maxlen = 40\n",
        "step = 3\n",
        "sentences = []\n",
        "next_chars = []\n",
        "for i in range(0, len(text) - maxlen, step):\n",
        "    sentences.append(text[i : i + maxlen])\n",
        "    next_chars.append(text[i + maxlen])\n",
        "print(\"Number of sequences:\", len(sentences))\n",
        "\n",
        "x = np.zeros((len(sentences), maxlen, len(chars)), dtype=bool)\n",
        "y = np.zeros((len(sentences), len(chars)), dtype=bool)\n",
        "for i, sentence in enumerate(sentences):\n",
        "    for t, char in enumerate(sentence):\n",
        "        x[i, t, char_indices[char]] = 1\n",
        "    y[i, char_indices[next_chars[i]]] = 1"
      ]
    },
    {
      "cell_type": "markdown",
      "metadata": {
        "id": "Gqf4Ofrajuzb"
      },
      "source": [
        "### Define the model"
      ]
    },
    {
      "cell_type": "code",
      "execution_count": null,
      "metadata": {
        "id": "_BiDEK-Njuzb"
      },
      "outputs": [],
      "source": [
        "model = keras.Sequential(\n",
        "    [\n",
        "        keras.Input(shape=(maxlen, len(chars))),\n",
        "        layers.LSTM(128),\n",
        "        layers.Dense(len(chars), activation=\"softmax\"),\n",
        "    ]\n",
        ")\n",
        "\n",
        "model.summary()"
      ]
    },
    {
      "cell_type": "code",
      "execution_count": null,
      "metadata": {
        "id": "t_88Fpcjjuzb"
      },
      "outputs": [],
      "source": [
        "model.compile(loss='categorical_crossentropy', \n",
        "              metrics=['MeanSquaredError', 'MeanAbsoluteError'], \n",
        "              optimizer='adam')\n",
        "\n",
        "def sample(preds, temperature=1.0):\n",
        "    # helper function to sample an index from a probability array\n",
        "    preds = np.asarray(preds).astype(\"float64\")\n",
        "    preds = np.log(preds) / temperature\n",
        "    exp_preds = np.exp(preds)\n",
        "    preds = exp_preds / np.sum(exp_preds)\n",
        "    probas = np.random.multinomial(1, preds, 1)\n",
        "    return np.argmax(probas)\n"
      ]
    },
    {
      "cell_type": "markdown",
      "metadata": {
        "id": "Fhz9OGSMjuzb"
      },
      "source": [
        "### Training the model"
      ]
    },
    {
      "cell_type": "code",
      "execution_count": null,
      "metadata": {
        "id": "MS7dTcHyjuzb"
      },
      "outputs": [],
      "source": [
        "# The network starts generating normal text starting from 40 epochs.\n",
        "# Thought, it takes some time for it to train.\n",
        "epochs = 40\n",
        "batch_size = 1000\n",
        "\n",
        "for epoch in range(epochs):\n",
        "    model.fit(x, y, batch_size=batch_size, epochs=1)\n",
        "    print()\n",
        "    print(\"Generating text after epoch: %d\" % epoch)\n",
        "\n",
        "    start_index = random.randint(0, len(text) - maxlen - 1)\n",
        "    for diversity in [0.2, 0.5, 1.0, 1.2]:\n",
        "        print(\"...Diversity:\", diversity)\n",
        "\n",
        "        generated = \"\"\n",
        "        sentence = text[start_index : start_index + maxlen]\n",
        "        print('...Generating with seed: \"' + sentence + '\"')\n",
        "\n",
        "        for i in range(400):\n",
        "            x_pred = np.zeros((1, maxlen, len(chars)))\n",
        "            for t, char in enumerate(sentence):\n",
        "                x_pred[0, t, char_indices[char]] = 1.0\n",
        "            preds = model.predict(x_pred, verbose=0)[0]\n",
        "            next_index = sample(preds, diversity)\n",
        "            next_char = indices_char[next_index]\n",
        "            sentence = sentence[1:] + next_char\n",
        "            generated += next_char\n",
        "\n",
        "        print(\"...Generated: \", generated)\n",
        "        print()\n"
      ]
    },
    {
      "cell_type": "code",
      "execution_count": null,
      "metadata": {
        "id": "zLuv_VyKjuzb"
      },
      "outputs": [],
      "source": []
    }
  ],
  "metadata": {
    "kernelspec": {
      "display_name": "Python 3.10.8 64-bit",
      "language": "python",
      "name": "python3"
    },
    "language_info": {
      "codemirror_mode": {
        "name": "ipython",
        "version": 3
      },
      "file_extension": ".py",
      "mimetype": "text/x-python",
      "name": "python",
      "nbconvert_exporter": "python",
      "pygments_lexer": "ipython3",
      "version": "3.10.8"
    },
    "orig_nbformat": 4,
    "vscode": {
      "interpreter": {
        "hash": "e7370f93d1d0cde622a1f8e1c04877d8463912d04d973331ad4851f04de6915a"
      }
    },
    "colab": {
      "provenance": []
    }
  },
  "nbformat": 4,
  "nbformat_minor": 0
}