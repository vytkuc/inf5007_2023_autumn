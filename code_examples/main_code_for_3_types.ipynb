{
 "cells": [
  {
   "attachments": {},
   "cell_type": "markdown",
   "metadata": {},
   "source": [
    "1. https://machinelearningmastery.com/multi-class-classification-tutorial-keras-deep-learning-library/\n",
    "2. https://machinelearningmastery.com/regression-tutorial-keras-deep-learning-library-python/\n",
    "3. https://machinelearningmastery.com/tutorial-first-neural-network-python-keras/\n",
    "4. https://www.tutorialspoint.com/keras/keras_regression_prediction_using_mpl.htm\n",
    "5. https://machinelearningmastery.com/binary-classification-tutorial-with-the-keras-deep-learning-library/"
   ]
  },
  {
   "attachments": {},
   "cell_type": "markdown",
   "metadata": {},
   "source": [
    "Naudinga medžiaga:\n",
    "1. https://towardsdatascience.com/airbnb-price-prediction-multilayer-perceptrons-with-tensorflows-keras-api-9096e7d0c340\n",
    "2. https://machinelearningmastery.com/how-to-make-classification-and-regression-predictions-for-deep-learning-models-in-keras/"
   ]
  },
  {
   "attachments": {},
   "cell_type": "markdown",
   "metadata": {},
   "source": [
    "# import libraries"
   ]
  },
  {
   "cell_type": "code",
   "execution_count": 10,
   "metadata": {},
   "outputs": [],
   "source": [
    "#for all 3 types\n",
    "import pandas as pd\n",
    "from sklearn.pipeline import Pipeline\n",
    "from keras.models import Sequential\n",
    "from keras.layers import Dense\n",
    "from scikeras.wrappers import KerasClassifier\n",
    "from scikeras.wrappers import KerasRegressor\n",
    "from keras.utils import np_utils\n",
    "from sklearn.model_selection import cross_val_score\n",
    "from sklearn.model_selection import KFold\n",
    "from sklearn.preprocessing import LabelEncoder\n",
    "from sklearn.preprocessing import StandardScaler\n"
   ]
  },
  {
   "attachments": {},
   "cell_type": "markdown",
   "metadata": {},
   "source": [
    "# load the dataset\n",
    "https://pandas.pydata.org/docs/reference/api/pandas.read_csv.html"
   ]
  },
  {
   "cell_type": "code",
   "execution_count": 11,
   "metadata": {},
   "outputs": [
    {
     "data": {
      "text/html": [
       "<div>\n",
       "<style scoped>\n",
       "    .dataframe tbody tr th:only-of-type {\n",
       "        vertical-align: middle;\n",
       "    }\n",
       "\n",
       "    .dataframe tbody tr th {\n",
       "        vertical-align: top;\n",
       "    }\n",
       "\n",
       "    .dataframe thead th {\n",
       "        text-align: right;\n",
       "    }\n",
       "</style>\n",
       "<table border=\"1\" class=\"dataframe\">\n",
       "  <thead>\n",
       "    <tr style=\"text-align: right;\">\n",
       "      <th></th>\n",
       "      <th>0</th>\n",
       "      <th>1</th>\n",
       "      <th>2</th>\n",
       "      <th>3</th>\n",
       "      <th>4</th>\n",
       "      <th>5</th>\n",
       "      <th>6</th>\n",
       "      <th>7</th>\n",
       "      <th>8</th>\n",
       "    </tr>\n",
       "  </thead>\n",
       "  <tbody>\n",
       "    <tr>\n",
       "      <th>0</th>\n",
       "      <td>0.407144</td>\n",
       "      <td>0.479536</td>\n",
       "      <td>0.609833</td>\n",
       "      <td>-0.823892</td>\n",
       "      <td>0.071533</td>\n",
       "      <td>1.698969</td>\n",
       "      <td>-1.084394</td>\n",
       "      <td>40.432796</td>\n",
       "      <td>0.0</td>\n",
       "    </tr>\n",
       "    <tr>\n",
       "      <th>1</th>\n",
       "      <td>0.567390</td>\n",
       "      <td>1.033953</td>\n",
       "      <td>1.019906</td>\n",
       "      <td>-3.073665</td>\n",
       "      <td>0.502911</td>\n",
       "      <td>6.858889</td>\n",
       "      <td>-0.905671</td>\n",
       "      <td>101.070260</td>\n",
       "      <td>0.0</td>\n",
       "    </tr>\n",
       "    <tr>\n",
       "      <th>2</th>\n",
       "      <td>-1.170556</td>\n",
       "      <td>0.547257</td>\n",
       "      <td>0.658736</td>\n",
       "      <td>1.063174</td>\n",
       "      <td>0.380775</td>\n",
       "      <td>-8.798944</td>\n",
       "      <td>-1.554733</td>\n",
       "      <td>92.813464</td>\n",
       "      <td>0.0</td>\n",
       "    </tr>\n",
       "    <tr>\n",
       "      <th>3</th>\n",
       "      <td>-0.518924</td>\n",
       "      <td>0.109892</td>\n",
       "      <td>1.285901</td>\n",
       "      <td>2.131144</td>\n",
       "      <td>0.349153</td>\n",
       "      <td>12.046475</td>\n",
       "      <td>-0.968397</td>\n",
       "      <td>14.904771</td>\n",
       "      <td>0.0</td>\n",
       "    </tr>\n",
       "    <tr>\n",
       "      <th>4</th>\n",
       "      <td>-0.468446</td>\n",
       "      <td>1.376831</td>\n",
       "      <td>0.396664</td>\n",
       "      <td>2.376362</td>\n",
       "      <td>0.006572</td>\n",
       "      <td>8.051633</td>\n",
       "      <td>-0.468881</td>\n",
       "      <td>44.287658</td>\n",
       "      <td>0.0</td>\n",
       "    </tr>\n",
       "  </tbody>\n",
       "</table>\n",
       "</div>"
      ],
      "text/plain": [
       "          0         1         2         3         4          5         6  \\\n",
       "0  0.407144  0.479536  0.609833 -0.823892  0.071533   1.698969 -1.084394   \n",
       "1  0.567390  1.033953  1.019906 -3.073665  0.502911   6.858889 -0.905671   \n",
       "2 -1.170556  0.547257  0.658736  1.063174  0.380775  -8.798944 -1.554733   \n",
       "3 -0.518924  0.109892  1.285901  2.131144  0.349153  12.046475 -0.968397   \n",
       "4 -0.468446  1.376831  0.396664  2.376362  0.006572   8.051633 -0.468881   \n",
       "\n",
       "            7    8  \n",
       "0   40.432796  0.0  \n",
       "1  101.070260  0.0  \n",
       "2   92.813464  0.0  \n",
       "3   14.904771  0.0  \n",
       "4   44.287658  0.0  "
      ]
     },
     "execution_count": 11,
     "metadata": {},
     "output_type": "execute_result"
    }
   ],
   "source": [
    "#two-class classification\n",
    "url = 'https://raw.githubusercontent.com/jbrownlee/Datasets/master/pima-indians-diabetes.data.csv'\n",
    "url = 'data1.txt'\n",
    "dataframe = pd.read_csv(url, header=None, delim_whitespace=True)\n",
    "dataframe.head()"
   ]
  },
  {
   "cell_type": "code",
   "execution_count": null,
   "metadata": {},
   "outputs": [],
   "source": [
    "# multi-class classification\n",
    "url = 'https://raw.githubusercontent.com/jbrownlee/Datasets/master/iris.csv'\n",
    "dataframe = pd.read_csv(url, header=None)\n",
    "dataframe.head()"
   ]
  },
  {
   "cell_type": "code",
   "execution_count": null,
   "metadata": {},
   "outputs": [],
   "source": [
    "#regression\n",
    "url='https://raw.githubusercontent.com/jbrownlee/Datasets/master/housing.data'\n",
    "dataframe = pd.read_csv(url, delim_whitespace=True, header=None)\n",
    "#or\n",
    "#dataframe = pd.read_csv(url, header=None, delimiter=r\"\\s+\")\n",
    "dataframe.head()"
   ]
  },
  {
   "cell_type": "code",
   "execution_count": 20,
   "metadata": {},
   "outputs": [
    {
     "data": {
      "text/plain": [
       "0    float64\n",
       "1    float64\n",
       "2    float64\n",
       "3    float64\n",
       "4    float64\n",
       "5    float64\n",
       "6    float64\n",
       "7    float64\n",
       "8    float64\n",
       "dtype: object"
      ]
     },
     "execution_count": 20,
     "metadata": {},
     "output_type": "execute_result"
    }
   ],
   "source": [
    "#for all 3 types\n",
    "dataframe.dtypes"
   ]
  },
  {
   "cell_type": "code",
   "execution_count": 18,
   "metadata": {},
   "outputs": [],
   "source": [
    "#in case there are collumns with numbers that are recognised as objects\n",
    "#dataframe = dataframe.apply(pd.to_numeric)"
   ]
  },
  {
   "cell_type": "code",
   "execution_count": 13,
   "metadata": {},
   "outputs": [],
   "source": [
    "#for all 3 types\n",
    "\n",
    "#convert pandas dataframe to numpy ndarray - from this part you can't use pandas syntax\n",
    "dataset = dataframe.values"
   ]
  },
  {
   "cell_type": "code",
   "execution_count": 14,
   "metadata": {},
   "outputs": [],
   "source": [
    "#for all 3 types\n",
    "\n",
    "# split into input (X) and output (y) variables\n",
    "X = dataset[:,0:-1]\n",
    "y = dataset[:,-1]"
   ]
  },
  {
   "cell_type": "code",
   "execution_count": 15,
   "metadata": {},
   "outputs": [],
   "source": [
    "#for all 3 types\n",
    "\n",
    "#https://machinelearningmastery.com/standardscaler-and-minmaxscaler-transforms-in-python/\n",
    "# define standard scaler\n",
    "scaler = StandardScaler()\n",
    "# transform data\n",
    "X = scaler.fit_transform(X)"
   ]
  },
  {
   "cell_type": "code",
   "execution_count": null,
   "metadata": {},
   "outputs": [],
   "source": [
    "#regression\n",
    "\n",
    "y = y.reshape(-1, 1) #sometimes don't need to use it\n",
    "y = scaler.fit_transform(y)"
   ]
  },
  {
   "cell_type": "code",
   "execution_count": null,
   "metadata": {},
   "outputs": [],
   "source": [
    "# multi-class classification\n",
    "\n",
    "## encode class values as integers\n",
    "encoder = LabelEncoder()\n",
    "encoder.fit(y)\n",
    "encoded_Y = encoder.transform(y)\n",
    "#print(encoded_Y)\n",
    "\n",
    "## convert integers to dummy variables (i.e. one hot encoded)\n",
    "dummy_y = np_utils.to_categorical(encoded_Y)\n",
    "y = dummy_y\n",
    "#print(y)"
   ]
  },
  {
   "attachments": {},
   "cell_type": "markdown",
   "metadata": {},
   "source": [
    "# define the keras model"
   ]
  },
  {
   "cell_type": "code",
   "execution_count": 16,
   "metadata": {},
   "outputs": [],
   "source": [
    "#two-class classification\n",
    "\n",
    "## define baseline model\n",
    "def baseline_model():\n",
    "\n",
    "\t# create model\n",
    "    model = Sequential()\n",
    "    model.add(Dense(12, input_shape=(X.shape[1],), activation='relu'))\n",
    "    model.add(Dense(8, activation='relu'))\n",
    "    model.add(Dense(1, activation='sigmoid'))\n",
    "\n",
    "    # compile model\n",
    "    model.compile(loss='binary_crossentropy', optimizer='adam', metrics=['accuracy'])\n",
    "\n",
    "    return model\n",
    "    "
   ]
  },
  {
   "cell_type": "code",
   "execution_count": null,
   "metadata": {},
   "outputs": [],
   "source": [
    "# multi-class classification\n",
    "\n",
    "## define baseline model\n",
    "def baseline_model():\n",
    "\n",
    "\t# create model\n",
    "\tmodel = Sequential()\n",
    "\tmodel.add(Dense(8, input_shape=(X.shape[1],), activation='relu'))\n",
    "\tmodel.add(Dense(3, activation='softmax'))\n",
    "\n",
    "\t# Compile model\n",
    "\tmodel.compile(loss='categorical_crossentropy', optimizer='adam', metrics=['accuracy'])\n",
    "\n",
    "\treturn model"
   ]
  },
  {
   "cell_type": "code",
   "execution_count": null,
   "metadata": {},
   "outputs": [],
   "source": [
    "#regression\n",
    "#https://machinelearningmastery.com/regression-metrics-for-machine-learning/\n",
    "\n",
    "## define baseline model\n",
    "def baseline_model():\n",
    "\n",
    "\t# create model\n",
    "\tmodel = Sequential()\n",
    "\tmodel.add(Dense(20, input_shape=(X.shape[1],), activation='relu'))\n",
    "\tmodel.add(Dense(1, activation='linear'))\n",
    "\n",
    "\t# Compile model\n",
    "\tmodel.compile(loss='mean_squared_error', optimizer='adam')\n",
    "\n",
    "\treturn model"
   ]
  },
  {
   "attachments": {},
   "cell_type": "markdown",
   "metadata": {},
   "source": [
    "# run models"
   ]
  },
  {
   "cell_type": "code",
   "execution_count": 22,
   "metadata": {},
   "outputs": [
    {
     "name": "stdout",
     "output_type": "stream",
     "text": [
      "Model: \"sequential_11\"\n",
      "_________________________________________________________________\n",
      " Layer (type)                Output Shape              Param #   \n",
      "=================================================================\n",
      " dense_33 (Dense)            (None, 12)                108       \n",
      "                                                                 \n",
      " dense_34 (Dense)            (None, 8)                 104       \n",
      "                                                                 \n",
      " dense_35 (Dense)            (None, 1)                 9         \n",
      "                                                                 \n",
      "=================================================================\n",
      "Total params: 221\n",
      "Trainable params: 221\n",
      "Non-trainable params: 0\n",
      "_________________________________________________________________\n",
      "Baseline model: 90.33% (5.67%)\n"
     ]
    }
   ],
   "source": [
    "#two-class classifcation\n",
    "\n",
    "baseline_model().summary()\n",
    "\n",
    "estimator = KerasClassifier(model=baseline_model, epochs=200, batch_size=5, verbose=0)\n",
    "kfold = KFold(n_splits=10, shuffle=True)\n",
    "\n",
    "results = cross_val_score(estimator, X, y, cv=kfold)\n",
    "print(\"Baseline model: %.2f%% (%.2f%%)\" % (results.mean()*100, results.std()*100))"
   ]
  },
  {
   "cell_type": "code",
   "execution_count": null,
   "metadata": {},
   "outputs": [],
   "source": [
    "# multi-class classification \n",
    "\n",
    "baseline_model().summary()\n",
    "\n",
    "estimator = KerasClassifier(model=baseline_model, epochs=200, batch_size=5, verbose=0)\n",
    "kfold = KFold(n_splits=10, shuffle=True)\n",
    "\n",
    "results = cross_val_score(estimator, X, y, cv=kfold)\n",
    "print(\"Baseline model: %.2f%% (%.2f%%)\" % (results.mean()*100, results.std()*100))\n"
   ]
  },
  {
   "cell_type": "code",
   "execution_count": null,
   "metadata": {},
   "outputs": [],
   "source": [
    "#regression\n",
    "\n",
    "baseline_model().summary()\n",
    "\n",
    "estimator = KerasRegressor(model=baseline_model, epochs=200, batch_size=5, verbose=0)\n",
    "kfold = KFold(n_splits=10, shuffle=True)\n",
    "\n",
    "#https://stephenallwright.com/cross_val_score-sklearn/\n",
    "#https://scikit-learn.org/stable/modules/model_evaluation.html\n",
    "#we cannot calculate accuracy for a regression model\n",
    "results = cross_val_score(estimator, X, y, cv=kfold, scoring='neg_root_mean_squared_error')\n",
    "print(\"Baseline model: %.2f (%.2f) MSE\" % (results.mean(), results.std()))"
   ]
  },
  {
   "cell_type": "code",
   "execution_count": 21,
   "metadata": {},
   "outputs": [
    {
     "data": {
      "text/plain": [
       "array([0.86666667, 0.9       , 1.        , 0.9       , 0.93333333,\n",
       "       1.        , 0.93333333, 0.96666667, 0.86666667, 0.86666667])"
      ]
     },
     "execution_count": 21,
     "metadata": {},
     "output_type": "execute_result"
    }
   ],
   "source": [
    "results"
   ]
  }
 ],
 "metadata": {
  "kernelspec": {
   "display_name": "base",
   "language": "python",
   "name": "python3"
  },
  "language_info": {
   "codemirror_mode": {
    "name": "ipython",
    "version": 3
   },
   "file_extension": ".py",
   "mimetype": "text/x-python",
   "name": "python",
   "nbconvert_exporter": "python",
   "pygments_lexer": "ipython3",
   "version": "3.9.13"
  },
  "orig_nbformat": 4
 },
 "nbformat": 4,
 "nbformat_minor": 2
}
